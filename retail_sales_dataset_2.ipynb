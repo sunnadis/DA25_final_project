{
 "cells": [
  {
   "cell_type": "code",
   "execution_count": 18,
   "metadata": {},
   "outputs": [
    {
     "name": "stdout",
     "output_type": "stream",
     "text": [
      "<class 'pandas.core.frame.DataFrame'>\n",
      "RangeIndex: 1000 entries, 0 to 999\n",
      "Data columns (total 9 columns):\n",
      " #   Column            Non-Null Count  Dtype \n",
      "---  ------            --------------  ----- \n",
      " 0   Transaction ID    1000 non-null   int64 \n",
      " 1   Date              1000 non-null   object\n",
      " 2   Customer ID       1000 non-null   object\n",
      " 3   Gender            1000 non-null   object\n",
      " 4   Age               1000 non-null   int64 \n",
      " 5   Product Category  1000 non-null   object\n",
      " 6   Quantity          1000 non-null   int64 \n",
      " 7   Price per Unit    1000 non-null   int64 \n",
      " 8   Total Amount      1000 non-null   int64 \n",
      "dtypes: int64(5), object(4)\n",
      "memory usage: 70.4+ KB\n"
     ]
    },
    {
     "data": {
      "text/plain": [
       "(   Transaction ID        Date Customer ID  Gender  Age Product Category  \\\n",
       " 0               1  2023-11-24     CUST001    Male   34           Beauty   \n",
       " 1               2  2023-02-27     CUST002  Female   26         Clothing   \n",
       " 2               3  2023-01-13     CUST003    Male   50      Electronics   \n",
       " 3               4  2023-05-21     CUST004    Male   37         Clothing   \n",
       " 4               5  2023-05-06     CUST005    Male   30           Beauty   \n",
       " \n",
       "    Quantity  Price per Unit  Total Amount  \n",
       " 0         3              50           150  \n",
       " 1         2             500          1000  \n",
       " 2         1              30            30  \n",
       " 3         1             500           500  \n",
       " 4         2              50           100  ,\n",
       " None)"
      ]
     },
     "execution_count": 18,
     "metadata": {},
     "output_type": "execute_result"
    }
   ],
   "source": [
    "import pandas as pd\n",
    "\n",
    "# Load the dataset\n",
    "file_path = 'retail_sales_dataset.csv'\n",
    "data = pd.read_csv(file_path)\n",
    "\n",
    "# Display the first few rows of the dataset\n",
    "data.head(), data.info()"
   ]
  },
  {
   "cell_type": "code",
   "execution_count": 27,
   "metadata": {},
   "outputs": [
    {
     "data": {
      "text/plain": [
       "(Empty DataFrame\n",
       " Columns: [Transaction ID, Date, Customer ID, Gender, Age, Product Category, Quantity, Price per Unit, Total Amount, Calculated Amount]\n",
       " Index: [],\n",
       " Transaction ID       0\n",
       " Date                 0\n",
       " Customer ID          0\n",
       " Gender               0\n",
       " Age                  0\n",
       " Product Category     0\n",
       " Quantity             0\n",
       " Price per Unit       0\n",
       " Total Amount         0\n",
       " Calculated Amount    0\n",
       " dtype: int64,\n",
       " array(['Male', 'Female'], dtype=object),\n",
       " array(['Beauty', 'Clothing', 'Electronics'], dtype=object),\n",
       "        Transaction ID                           Date         Age     Quantity  \\\n",
       " count     1000.000000                           1000  1000.00000  1000.000000   \n",
       " mean       500.500000  2023-07-03 00:25:55.200000256    41.39200     2.514000   \n",
       " min          1.000000            2023-01-01 00:00:00    18.00000     1.000000   \n",
       " 25%        250.750000            2023-04-08 00:00:00    29.00000     1.000000   \n",
       " 50%        500.500000            2023-06-29 12:00:00    42.00000     3.000000   \n",
       " 75%        750.250000            2023-10-04 00:00:00    53.00000     4.000000   \n",
       " max       1000.000000            2024-01-01 00:00:00    64.00000     4.000000   \n",
       " std        288.819436                            NaN    13.68143     1.132734   \n",
       " \n",
       "        Price per Unit  Total Amount  Calculated Amount  \n",
       " count     1000.000000   1000.000000        1000.000000  \n",
       " mean       179.890000    456.000000         456.000000  \n",
       " min         25.000000     25.000000          25.000000  \n",
       " 25%         30.000000     60.000000          60.000000  \n",
       " 50%         50.000000    135.000000         135.000000  \n",
       " 75%        300.000000    900.000000         900.000000  \n",
       " max        500.000000   2000.000000        2000.000000  \n",
       " std        189.681356    559.997632         559.997632  )"
      ]
     },
     "execution_count": 27,
     "metadata": {},
     "output_type": "execute_result"
    }
   ],
   "source": [
    "# Convert 'Date' column to datetime format\n",
    "data['Date'] = pd.to_datetime(data['Date'])\n",
    "\n",
    "# Check if 'Total Amount' matches 'Quantity' * 'Price per Unit'\n",
    "mismatch_total = data[data['Total Amount'] !=\n",
    "                      data['Quantity'] * data['Price per Unit']]\n",
    "\n",
    "# Check for missing or invalid values\n",
    "missing_values = data.isnull().sum()\n",
    "\n",
    "# Check for unique values in categorical columns to detect inconsistencies\n",
    "unique_genders = data['Gender'].unique()\n",
    "unique_categories = data['Product Category'].unique()\n",
    "\n",
    "# Summary statistics to identify outliers\n",
    "summary_stats = data.describe()\n",
    "\n",
    "mismatch_total, missing_values, unique_genders, unique_categories, summary_stats"
   ]
  },
  {
   "cell_type": "code",
   "execution_count": 33,
   "metadata": {},
   "outputs": [
    {
     "name": "stdout",
     "output_type": "stream",
     "text": [
      "   Transaction ID       Date Customer ID  Gender  Age Product Category  \\\n",
      "0               1 2023-11-24     CUST001    Male   34           Beauty   \n",
      "1               2 2023-02-27     CUST002  Female   26         Clothing   \n",
      "2               3 2023-01-13     CUST003    Male   50      Electronics   \n",
      "3               4 2023-05-21     CUST004    Male   37         Clothing   \n",
      "4               5 2023-05-06     CUST005    Male   30           Beauty   \n",
      "\n",
      "   Quantity  Price per Unit  Total Amount  Calculated Amount Age Group  \n",
      "0         3              50           150                150     26-35  \n",
      "1         2             500          1000               1000     26-35  \n",
      "2         1              30            30                 30     46-55  \n",
      "3         1             500           500                500     36-45  \n",
      "4         2              50           100                100     26-35  \n"
     ]
    }
   ],
   "source": [
    "# Making a age group\n",
    "# Define the age bins and labels\n",
    "bins = [0, 18, 25, 35, 45, 55, 65, 100]\n",
    "labels = ['0-17', '18-25', '26-35', '36-45', '46-55', '56-65', '66+']\n",
    "\n",
    "# Add a new column 'Age Group' based on the age bins\n",
    "data['Age Group'] = pd.cut(data['Age'], bins=bins, labels=labels)\n",
    "\n",
    "# Display the first few rows to check\n",
    "print(data.head())"
   ]
  },
  {
   "cell_type": "code",
   "execution_count": 34,
   "metadata": {},
   "outputs": [],
   "source": [
    "# Save the updated DataFrame with age groups to a new CSV file\n",
    "data.to_csv('data_with_age_groups.csv', index=False)"
   ]
  },
  {
   "cell_type": "code",
   "execution_count": null,
   "metadata": {},
   "outputs": [],
   "source": []
  }
 ],
 "metadata": {
  "kernelspec": {
   "display_name": "Python 3",
   "language": "python",
   "name": "python3"
  },
  "language_info": {
   "codemirror_mode": {
    "name": "ipython",
    "version": 3
   },
   "file_extension": ".py",
   "mimetype": "text/x-python",
   "name": "python",
   "nbconvert_exporter": "python",
   "pygments_lexer": "ipython3",
   "version": "3.9.6"
  }
 },
 "nbformat": 4,
 "nbformat_minor": 2
}
